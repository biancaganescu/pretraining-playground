{
 "cells": [
  {
   "cell_type": "markdown",
   "metadata": {},
   "source": [
    "Notebook for manipulating and interacting with data"
   ]
  },
  {
   "cell_type": "code",
   "execution_count": 1,
   "metadata": {},
   "outputs": [
    {
     "name": "stderr",
     "output_type": "stream",
     "text": [
      "/home/rd654/rds/hpc-work/projects/analysis/pretraining-playground/lib/pythia/.venv/lib/python3.9/site-packages/tqdm/auto.py:21: TqdmWarning: IProgress not found. Please update jupyter and ipywidgets. See https://ipywidgets.readthedocs.io/en/stable/user_install.html\n",
      "  from .autonotebook import tqdm as notebook_tqdm\n"
     ]
    }
   ],
   "source": [
    "from lib.pythia.utils.mmap_dataset import MMapIndexedDataset "
   ]
  },
  {
   "cell_type": "code",
   "execution_count": 15,
   "metadata": {},
   "outputs": [],
   "source": [
    "import torch\n",
    "import numpy as np"
   ]
  },
  {
   "cell_type": "code",
   "execution_count": 16,
   "metadata": {},
   "outputs": [
    {
     "name": "stdout",
     "output_type": "stream",
     "text": [
      "    reading sizes...\n",
      "    reading pointers...\n",
      "    reading document index...\n",
      "    creating numpy buffer of mmap...\n",
      "    creating memory view of numpy buffer...\n"
     ]
    }
   ],
   "source": [
    "mmap_dataset = MMapIndexedDataset(path='/home/rd654/rds/rds-personal-3CBQLhZjXbU/data/document', skip_warmup=True)"
   ]
  },
  {
   "cell_type": "code",
   "execution_count": 20,
   "metadata": {},
   "outputs": [],
   "source": [
    "def get_sample(step: int):\n",
    "    batch = mmap_dataset[step: (step+1)].squeeze(0)\n",
    "    return batch "
   ]
  },
  {
   "cell_type": "code",
   "execution_count": 21,
   "metadata": {},
   "outputs": [],
   "source": [
    "import pyarrow as pa\n",
    "import pyarrow.parquet as pq"
   ]
  },
  {
   "cell_type": "code",
   "execution_count": 22,
   "metadata": {},
   "outputs": [],
   "source": [
    "import multiprocessing as mp "
   ]
  },
  {
   "cell_type": "code",
   "execution_count": 23,
   "metadata": {},
   "outputs": [],
   "source": [
    "import os \n",
    "\n",
    "cpu_count = os.cpu_count()"
   ]
  },
  {
   "cell_type": "code",
   "execution_count": 24,
   "metadata": {},
   "outputs": [
    {
     "data": {
      "text/plain": [
       "146432000"
      ]
     },
     "execution_count": 24,
     "metadata": {},
     "output_type": "execute_result"
    }
   ],
   "source": [
    "len(mmap_dataset)\n"
   ]
  },
  {
   "cell_type": "code",
   "execution_count": 25,
   "metadata": {},
   "outputs": [
    {
     "data": {
      "text/plain": [
       "76"
      ]
     },
     "execution_count": 25,
     "metadata": {},
     "output_type": "execute_result"
    }
   ],
   "source": [
    "cpu_count"
   ]
  },
  {
   "cell_type": "markdown",
   "metadata": {},
   "source": [
    "### Converting dataset into smaller parquet chunks that can be uploaded"
   ]
  },
  {
   "cell_type": "code",
   "execution_count": 10,
   "metadata": {},
   "outputs": [],
   "source": [
    "def worker(rank: int, world_size: int, mmap_dataset: MMapIndexedDataset): \n",
    "\n",
    "    file_name = f'/home/rd654/rds/rds-personal-3CBQLhZjXbU/data/pile/parquet/shard_{rank}.parquet'\n",
    "\n",
    "    if os.path.exists(file_name):\n",
    "        print(\"File already exists: \", file_name)\n",
    "        return\n",
    "\n",
    "    len_dataset = len(mmap_dataset)\n",
    "\n",
    "    start_index = len_dataset // world_size * rank\n",
    "    end_index = len_dataset // world_size * (rank + 1)\n",
    "\n",
    "    print(\"Process: \", rank, \"Start: \", start_index, \"End: \", end_index)\n",
    "\n",
    "    data = []\n",
    "    for i in range(start_index, end_index):\n",
    "        data.append(get_sample(i))\n",
    "\n",
    "    \n",
    "    table = pa.table({'ids': data}) \n",
    "    pq.write_table(table, f'/home/rd654/rds/rds-personal-3CBQLhZjXbU/data/pile/parquet/shard_{rank}.parquet')"
   ]
  },
  {
   "cell_type": "code",
   "execution_count": null,
   "metadata": {},
   "outputs": [],
   "source": [
    "processes = [\n",
    "    mp.Process(target=worker, args=(rank, cpu_count, mmap_dataset)) for rank in range(cpu_count)\n",
    "]\n",
    "\n",
    "for process in processes:\n",
    "    process.start()\n",
    "    process.join()\n"
   ]
  },
  {
   "cell_type": "code",
   "execution_count": 28,
   "metadata": {},
   "outputs": [],
   "source": [
    "# Doing the last index of the dataset\n",
    "len_dataset = len(mmap_dataset)\n",
    "start_index = len_dataset // 76 * (75 + 1)\n",
    "end_index = len(mmap_dataset)\n",
    "data = []\n",
    "for i in range(start_index, end_index):\n",
    "    data.append(get_sample(i))\n",
    "\n",
    "\n",
    "table = pa.table({'ids': data}) \n",
    "pq.write_table(table, f'/home/rd654/rds/rds-personal-3CBQLhZjXbU/data/pile/parquet/shard_76.parquet')"
   ]
  },
  {
   "cell_type": "markdown",
   "metadata": {},
   "source": [
    "#### Creating dataset of batches only at the checkpoint locations "
   ]
  },
  {
   "cell_type": "code",
   "execution_count": 9,
   "metadata": {},
   "outputs": [
    {
     "data": {
      "text/plain": [
       "[1,\n",
       " 2,\n",
       " 4,\n",
       " 8,\n",
       " 16,\n",
       " 32,\n",
       " 64,\n",
       " 128,\n",
       " 256,\n",
       " 512,\n",
       " 1000,\n",
       " 2000,\n",
       " 3000,\n",
       " 4000,\n",
       " 5000,\n",
       " 6000,\n",
       " 7000,\n",
       " 8000,\n",
       " 9000,\n",
       " 10000,\n",
       " 11000,\n",
       " 12000,\n",
       " 13000,\n",
       " 14000,\n",
       " 15000,\n",
       " 16000,\n",
       " 17000,\n",
       " 18000,\n",
       " 19000,\n",
       " 20000,\n",
       " 21000,\n",
       " 22000,\n",
       " 23000,\n",
       " 24000,\n",
       " 25000,\n",
       " 26000,\n",
       " 27000,\n",
       " 28000,\n",
       " 29000,\n",
       " 30000,\n",
       " 31000,\n",
       " 32000,\n",
       " 33000,\n",
       " 34000,\n",
       " 35000,\n",
       " 36000,\n",
       " 37000,\n",
       " 38000,\n",
       " 39000,\n",
       " 40000,\n",
       " 41000,\n",
       " 42000,\n",
       " 43000,\n",
       " 44000,\n",
       " 45000,\n",
       " 46000,\n",
       " 47000,\n",
       " 48000,\n",
       " 49000,\n",
       " 50000,\n",
       " 51000,\n",
       " 52000,\n",
       " 53000,\n",
       " 54000,\n",
       " 55000,\n",
       " 56000,\n",
       " 57000,\n",
       " 58000,\n",
       " 59000,\n",
       " 60000,\n",
       " 61000,\n",
       " 62000,\n",
       " 63000,\n",
       " 64000,\n",
       " 65000,\n",
       " 66000,\n",
       " 67000,\n",
       " 68000,\n",
       " 69000,\n",
       " 70000,\n",
       " 71000,\n",
       " 72000,\n",
       " 73000,\n",
       " 74000,\n",
       " 75000,\n",
       " 76000,\n",
       " 77000,\n",
       " 78000,\n",
       " 79000,\n",
       " 80000,\n",
       " 81000,\n",
       " 82000,\n",
       " 83000,\n",
       " 84000,\n",
       " 85000,\n",
       " 86000,\n",
       " 87000,\n",
       " 88000,\n",
       " 89000,\n",
       " 90000,\n",
       " 91000,\n",
       " 92000,\n",
       " 93000,\n",
       " 94000,\n",
       " 95000,\n",
       " 96000,\n",
       " 97000,\n",
       " 98000,\n",
       " 99000,\n",
       " 100000,\n",
       " 101000,\n",
       " 102000,\n",
       " 103000,\n",
       " 104000,\n",
       " 105000,\n",
       " 106000,\n",
       " 107000,\n",
       " 108000,\n",
       " 109000,\n",
       " 110000,\n",
       " 111000,\n",
       " 112000,\n",
       " 113000,\n",
       " 114000,\n",
       " 115000,\n",
       " 116000,\n",
       " 117000,\n",
       " 118000,\n",
       " 119000,\n",
       " 120000,\n",
       " 121000,\n",
       " 122000,\n",
       " 123000,\n",
       " 124000,\n",
       " 125000,\n",
       " 126000,\n",
       " 127000,\n",
       " 128000,\n",
       " 129000,\n",
       " 130000,\n",
       " 131000,\n",
       " 132000,\n",
       " 133000,\n",
       " 134000,\n",
       " 135000,\n",
       " 136000,\n",
       " 137000,\n",
       " 138000,\n",
       " 139000,\n",
       " 140000,\n",
       " 141000,\n",
       " 142000,\n",
       " 143000]"
      ]
     },
     "execution_count": 9,
     "metadata": {},
     "output_type": "execute_result"
    }
   ],
   "source": [
    "checkpoint_steps = [1, 2, 4, 8, 16, 32, 64, 128, 256, 512]\n",
    "checkpoint_steps.extend([i * 1000 for i in range(1, 144)])\n",
    "checkpoint_steps"
   ]
  },
  {
   "cell_type": "markdown",
   "metadata": {},
   "source": [
    "### Loading in Generated Dataset from HuggingFace"
   ]
  },
  {
   "cell_type": "code",
   "execution_count": 1,
   "metadata": {},
   "outputs": [
    {
     "name": "stderr",
     "output_type": "stream",
     "text": [
      "/home/rd654/rds/hpc-work/projects/analysis/pretraining-playground/lib/pythia/.venv/lib/python3.9/site-packages/tqdm/auto.py:21: TqdmWarning: IProgress not found. Please update jupyter and ipywidgets. See https://ipywidgets.readthedocs.io/en/stable/user_install.html\n",
      "  from .autonotebook import tqdm as notebook_tqdm\n"
     ]
    }
   ],
   "source": [
    "from datasets import load_dataset"
   ]
  },
  {
   "cell_type": "code",
   "execution_count": 5,
   "metadata": {},
   "outputs": [],
   "source": [
    "dataset = load_dataset('rdiehlmartinez/pythia-pile-presampled', 'checkpoints')"
   ]
  },
  {
   "cell_type": "code",
   "execution_count": 2,
   "metadata": {},
   "outputs": [
    {
     "name": "stderr",
     "output_type": "stream",
     "text": [
      "Generating train split: 84399440 examples [09:01, 160953.41 examples/s]"
     ]
    }
   ],
   "source": [
    "dataset = load_dataset('parquet', data_files='/home/rd654/rds/rds-personal-3CBQLhZjXbU/data/pile/parquet/shard_*.parquet', split='train', cache_dir='/rds-d7/user/rd654/hpc-work/hf_custom_cache/huggingface/datasets', num_proc=8)"
   ]
  }
 ],
 "metadata": {
  "kernelspec": {
   "display_name": ".venv",
   "language": "python",
   "name": "python3"
  },
  "language_info": {
   "codemirror_mode": {
    "name": "ipython",
    "version": 3
   },
   "file_extension": ".py",
   "mimetype": "text/x-python",
   "name": "python",
   "nbconvert_exporter": "python",
   "pygments_lexer": "ipython3",
   "version": "3.9.12"
  }
 },
 "nbformat": 4,
 "nbformat_minor": 2
}
