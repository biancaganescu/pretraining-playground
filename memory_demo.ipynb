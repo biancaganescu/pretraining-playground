{
 "cells": [
  {
   "cell_type": "code",
   "execution_count": null,
   "metadata": {},
   "outputs": [],
   "source": [
    "\n",
    "from transformers import GPTNeoXForCausalLM \n",
    "import pickle\n",
    "from datasets import load_dataset\n",
    "import torch \n"
   ]
  },
  {
   "cell_type": "code",
   "execution_count": null,
   "metadata": {},
   "outputs": [],
   "source": [
    "checkpoint_dataset = load_dataset(\"rdiehlmartinez/pythia-pile-presampled\", \"checkpoints\", split=\"train\", num_proc=8) "
   ]
  },
  {
   "cell_type": "code",
   "execution_count": null,
   "metadata": {},
   "outputs": [],
   "source": [
    "\n",
    "model_checkpoint = GPTNeoXForCausalLM.from_pretrained(\n",
    "    f\"EleutherAI/pythia-70m-deduped\",\n",
    "    revision=f\"step1000\",\n",
    "    cache_dir=f\"./pythia-70m-deduped/step1000\",\n",
    ").to('cuda')"
   ]
  },
  {
   "cell_type": "code",
   "execution_count": null,
   "metadata": {},
   "outputs": [],
   "source": [
    "# Initial constants\n",
    "\n",
    "checkpoint_dataset = load_dataset(\"rdiehlmartinez/pythia-pile-presampled\", \"checkpoints\", split='train', num_proc=8)\n",
    "batch = checkpoint_dataset[:30]['ids']"
   ]
  },
  {
   "cell_type": "code",
   "execution_count": null,
   "metadata": {},
   "outputs": [],
   "source": [
    "torch.cuda.memory._record_memory_history(enabled='all')\n",
    "inputs = torch.tensor(batch, device='cuda')\n",
    "labels = inputs.detach().clone()\n",
    "print(\"memory: \", torch.cuda.memory_allocated()/1e9, \"GB\")\n",
    "outputs = model_checkpoint(input_ids=inputs)#, labels=labels)\n",
    "print(\"memory: \", torch.cuda.memory_allocated()/1e9, \"GB\")\n",
    "outputs['loss'].backward()\n",
    "print(\"memory: \", torch.cuda.memory_allocated()/1e9, \"GB\")\n",
    "model_checkpoint.zero_grad\n",
    "with open('memory_history_no_labels.pkl', 'wb') as f:\n",
    "    pickle.dump(torch.cuda.memory._snapshot(), f)"
   ]
  }
 ],
 "metadata": {
  "language_info": {
   "name": "python"
  }
 },
 "nbformat": 4,
 "nbformat_minor": 2
}
